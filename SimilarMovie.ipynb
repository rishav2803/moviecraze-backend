{
 "cells": [
  {
   "cell_type": "markdown",
   "metadata": {},
   "source": [
    "# Importing Python Libraries"
   ]
  },
  {
   "cell_type": "code",
   "execution_count": 35,
   "metadata": {},
   "outputs": [],
   "source": [
    "import pandas as pd\n",
    "from sklearn.feature_extraction.text import TfidfVectorizer\n",
    "from sklearn.metrics.pairwise import linear_kernel\n",
    "import pickle"
   ]
  },
  {
   "cell_type": "markdown",
   "metadata": {},
   "source": [
    "# Read the CSV file"
   ]
  },
  {
   "cell_type": "code",
   "execution_count": 36,
   "metadata": {},
   "outputs": [],
   "source": [
    "df = pd.read_csv(\"updated_movie_92.csv\", encoding='latin-1')"
   ]
  },
  {
   "cell_type": "markdown",
   "metadata": {},
   "source": [
    "# Select features for content-based filtering"
   ]
  },
  {
   "cell_type": "code",
   "execution_count": 37,
   "metadata": {},
   "outputs": [],
   "source": [
    "features = ['Star_actors', 'Genre', 'Director']"
   ]
  },
  {
   "cell_type": "markdown",
   "metadata": {},
   "source": [
    "# Fill missing values with empty string"
   ]
  },
  {
   "cell_type": "code",
   "execution_count": 38,
   "metadata": {},
   "outputs": [],
   "source": [
    "for feature in features:\n",
    "    df[feature] = df[feature].fillna('')"
   ]
  },
  {
   "cell_type": "markdown",
   "metadata": {},
   "source": [
    "# Create a new column 'combined_features'"
   ]
  },
  {
   "cell_type": "code",
   "execution_count": 39,
   "metadata": {},
   "outputs": [],
   "source": [
    "def combined_features(row):\n",
    "    # Split the 'Star_actors' into a list\n",
    "    star_actors = row['Star_actors'].split('|')\n",
    "    \n",
    "    # Split the 'Genre' into a list\n",
    "    genres = row['Genre'].split('|')\n",
    "    \n",
    "    director = row['Director']\n",
    "    \n",
    "    # Join the separated values with spaces\n",
    "    return ' '.join(star_actors) + \" \" + ' '.join(genres) + \" \" + director"
   ]
  },
  {
   "cell_type": "markdown",
   "metadata": {},
   "source": [
    "# Apply the 'combined_features' function to create a new column"
   ]
  },
  {
   "cell_type": "code",
   "execution_count": 40,
   "metadata": {},
   "outputs": [],
   "source": [
    "df['combined_features'] = df.apply(combined_features, axis=1)"
   ]
  },
  {
   "cell_type": "markdown",
   "metadata": {},
   "source": [
    "# TF-IDF vectorization for the entire dataset"
   ]
  },
  {
   "cell_type": "code",
   "execution_count": 41,
   "metadata": {},
   "outputs": [],
   "source": [
    "tfidf_vectorizer = TfidfVectorizer(stop_words='english')\n",
    "tfidf_matrix = tfidf_vectorizer.fit_transform(df['combined_features'])"
   ]
  },
  {
   "cell_type": "markdown",
   "metadata": {},
   "source": [
    "# Calculate cosine similarity for the entire dataset"
   ]
  },
  {
   "cell_type": "code",
   "execution_count": 42,
   "metadata": {},
   "outputs": [],
   "source": [
    "cosine_sim = linear_kernel(tfidf_matrix, tfidf_matrix)"
   ]
  },
  {
   "cell_type": "code",
   "execution_count": 43,
   "metadata": {},
   "outputs": [],
   "source": [
    "# data = {\n",
    "#     'tfidf_vectorizer': tfidf_vectorizer,\n",
    "#     'cosine_similarity': cosine_sim,\n",
    "#     'df' : df\n",
    "# }"
   ]
  },
  {
   "cell_type": "markdown",
   "metadata": {},
   "source": [
    "# Save the cosine similarity matrix and TF-IDF Vectorizer"
   ]
  },
  {
   "cell_type": "code",
   "execution_count": 44,
   "metadata": {},
   "outputs": [],
   "source": [
    "# with open('movie_recommendation_data.pkl', 'wb') as file:\n",
    "#     pickle.dump(data, file)"
   ]
  },
  {
   "cell_type": "markdown",
   "metadata": {},
   "source": [
    "# Function to print recommended movies"
   ]
  },
  {
   "cell_type": "code",
   "execution_count": 45,
   "metadata": {},
   "outputs": [],
   "source": [
    "def recommend_movies(title, data,df, top_n=15):\n",
    "    df = data['df']\n",
    "    movie_indices = df[df['Series_Title'] == title].index.values\n",
    "    if len(movie_indices) > 0:\n",
    "        movie_index = movie_indices[0]\n",
    "        if movie_index < len(data['cosine_similarity']) and movie_index < len(df):\n",
    "            similar_movies = list(enumerate(data['cosine_similarity'][movie_index]))\n",
    "            sorted_similar_movies = sorted(similar_movies, key=lambda x: x[1], reverse=True)[:top_n]\n",
    "            recommended_movies = []\n",
    "            for movie in sorted_similar_movies:\n",
    "                if movie[0] < len(df):\n",
    "                    recommended_movie_title = df.loc[movie[0], 'Series_Title']\n",
    "                    if recommended_movie_title != title:\n",
    "                        recommended_movies.append((recommended_movie_title, movie[1]))\n",
    "            return recommended_movies\n",
    "    return None"
   ]
  },
  {
   "cell_type": "code",
   "execution_count": 46,
   "metadata": {},
   "outputs": [],
   "source": [
    "data = {\n",
    "    'tfidf_vectorizer': tfidf_vectorizer,\n",
    "    'cosine_similarity': cosine_sim,\n",
    "    'predict' : recommend_movies,\n",
    "    'df': df\n",
    "}"
   ]
  },
  {
   "cell_type": "markdown",
   "metadata": {},
   "source": [
    "# User input movie"
   ]
  },
  {
   "cell_type": "code",
   "execution_count": 47,
   "metadata": {},
   "outputs": [],
   "source": [
    "movie_user_like = \"The Avengers\""
   ]
  },
  {
   "cell_type": "markdown",
   "metadata": {},
   "source": [
    "# Get recommendations for the movie the user likes"
   ]
  },
  {
   "cell_type": "code",
   "execution_count": 48,
   "metadata": {},
   "outputs": [],
   "source": [
    "recommended_movies = recommend_movies(movie_user_like,data, df)"
   ]
  },
  {
   "cell_type": "markdown",
   "metadata": {},
   "source": [
    "# Check if there are recommendations"
   ]
  },
  {
   "cell_type": "code",
   "execution_count": 49,
   "metadata": {},
   "outputs": [
    {
     "name": "stdout",
     "output_type": "stream",
     "text": [
      "Recommended movies for 'The Avengers':\n",
      "Captain America: Civil War (Similarity Score: 0.58)\n",
      "Captain America: Civil War (Similarity Score: 0.56)\n",
      "Captain America: The Winter Soldier (Similarity Score: 0.38)\n",
      "Avengers: Endgame (Similarity Score: 0.35)\n",
      "Spider-Man: Homecoming (Similarity Score: 0.34)\n",
      "Avengers: Infinity War (Similarity Score: 0.32)\n",
      "Serenity (Similarity Score: 0.30)\n",
      "Iron Man (Similarity Score: 0.28)\n",
      "Mission: Impossible â Ghost Protocol (Similarity Score: 0.26)\n",
      "Mission: Impossible â Rogue Nation (Similarity Score: 0.25)\n",
      "Arrival (Similarity Score: 0.25)\n",
      "The Prestige (Similarity Score: 0.25)\n",
      "Her (Similarity Score: 0.23)\n",
      "Sherlock Holmes (Similarity Score: 0.22)\n"
     ]
    }
   ],
   "source": [
    "if recommended_movies:\n",
    "    print(f\"Recommended movies for '{movie_user_like}':\")\n",
    "    \n",
    "    # # Print each recommended movie\n",
    "    # for recommended_movie in recommended_movies:\n",
    "    #     print(recommended_movie)\n",
    "    \n",
    "     # Print each recommended movie with its similarity score\n",
    "    for recommended_movie, score in recommended_movies:\n",
    "        print(f\"{recommended_movie} (Similarity Score: {score:.2f})\")\n",
    "else:\n",
    "    # Print a message if there are no recommendations\n",
    "    print(f\"No recommendations for '{movie_user_like}' found.\")"
   ]
  },
  {
   "cell_type": "code",
   "execution_count": 50,
   "metadata": {},
   "outputs": [],
   "source": [
    "with open('movie_recommendation_data.pkl', 'wb') as file:\n",
    "    pickle.dump(data, file)"
   ]
  }
 ],
 "metadata": {
  "kernelspec": {
   "display_name": "base",
   "language": "python",
   "name": "python3"
  },
  "language_info": {
   "codemirror_mode": {
    "name": "ipython",
    "version": 3
   },
   "file_extension": ".py",
   "mimetype": "text/x-python",
   "name": "python",
   "nbconvert_exporter": "python",
   "pygments_lexer": "ipython3",
   "version": "3.9.13"
  }
 },
 "nbformat": 4,
 "nbformat_minor": 2
}
